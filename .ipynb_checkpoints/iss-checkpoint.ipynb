{
 "cells": [
  {
   "cell_type": "code",
   "execution_count": null,
   "id": "aac01f5d",
   "metadata": {},
   "outputs": [
    {
     "name": "stdout",
     "output_type": "stream",
     "text": [
      "0   Added -27.6239, -124.9854 coordinates\n",
      "1   Added -27.1387, -124.4955 coordinates\n",
      "2   Added -26.6514, -124.0102 coordinates\n",
      "3   Added -26.1622, -123.5294 coordinates\n",
      "4   Added -25.6945, -123.0756 coordinates\n",
      "5   Added -25.2017, -122.6033 coordinates\n"
     ]
    }
   ],
   "source": [
    "import requests\n",
    "import matplotlib.pyplot as plt\n",
    "import time\n",
    "\n",
    "lat = []\n",
    "long = []\n",
    "\n",
    "fig = plt.figure(figsize=(3, 3), facecolor='lightskyblue',\n",
    "                 layout='constrained')\n",
    "fig.suptitle('ISS Location')\n",
    "ax = fig.add_subplot()\n",
    "ax.set_title('Axes', loc='left', fontstyle='oblique', fontsize='medium')\n",
    "\n",
    "for _ in range(100):\n",
    "    \n",
    "    r = requests.get('http://api.open-notify.org/iss-now.json')\n",
    "    data = r.json()\n",
    "    iter_lat = float(data['iss_position']['latitude'])\n",
    "    iter_long = float(data['iss_position']['longitude'])\n",
    "    lat.append(iter_lat)\n",
    "    long.append(iter_long)\n",
    "    ax.plot(lat, long)\n",
    "    print(f\"{_}   Added {iter_lat}, {iter_long} coordinates\")\n",
    "    time.sleep(10)\n",
    "\n",
    "\n",
    "\n",
    "\n"
   ]
  },
  {
   "cell_type": "code",
   "execution_count": null,
   "id": "ff514513",
   "metadata": {},
   "outputs": [],
   "source": []
  }
 ],
 "metadata": {
  "kernelspec": {
   "display_name": "Python 3 (ipykernel)",
   "language": "python",
   "name": "python3"
  },
  "language_info": {
   "codemirror_mode": {
    "name": "ipython",
    "version": 3
   },
   "file_extension": ".py",
   "mimetype": "text/x-python",
   "name": "python",
   "nbconvert_exporter": "python",
   "pygments_lexer": "ipython3",
   "version": "3.10.2"
  }
 },
 "nbformat": 4,
 "nbformat_minor": 5
}
