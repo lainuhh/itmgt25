{
 "cells": [
  {
   "cell_type": "markdown",
   "id": "a8107f86",
   "metadata": {},
   "source": [
    "1. How many unique customers are in the dataset? // **ANSWER: 5191**"
   ]
  },
  {
   "cell_type": "code",
   "execution_count": 2,
   "id": "08fad0c0",
   "metadata": {},
   "outputs": [
    {
     "name": "stdout",
     "output_type": "stream",
     "text": [
      "5191\n"
     ]
    }
   ],
   "source": [
    "import pandas as pd\n",
    "\n",
    "customer_data = pd.read_json('dim_customer.json')\n",
    "unique_customer_id_count = customer_data['id'].nunique()\n",
    "\n",
    "print(unique_customer_id_count)"
   ]
  },
  {
   "cell_type": "markdown",
   "id": "4c9dede5",
   "metadata": {},
   "source": [
    "2. What are the different categories of products available? How many unique categories are there? //  **ANSWER: The categories are as follows: Clothing, Shoes, Books, Cosmetics, Food & Beverage, Toys, Technology, Souvenir. There are 8 categories in total.**"
   ]
  },
  {
   "cell_type": "code",
   "execution_count": 3,
   "id": "26faaa39",
   "metadata": {},
   "outputs": [
    {
     "name": "stdout",
     "output_type": "stream",
     "text": [
      "['Clothing' 'Shoes' 'Books' 'Cosmetics' 'Food & Beverage' 'Toys'\n",
      " 'Technology' 'Souvenir'] 8\n"
     ]
    }
   ],
   "source": [
    "import pandas as pd\n",
    "\n",
    "customer_data = pd.read_json('dim_customer.json')\n",
    "product_invoice_data = pd.read_csv('fct_invoice.csv')\n",
    "\n",
    "product_category_list = pd.unique(product_invoice_data['category'])\n",
    "num_product_categories = (product_category_list != \"\").sum()\n",
    "\n",
    "print(product_category_list, num_product_categories)"
   ]
  },
  {
   "cell_type": "markdown",
   "id": "5c83bc7e",
   "metadata": {},
   "source": [
    "3. Which payment method is the most popular? How many times was it used? // **ANSWER: Cash is the most popular with 44,447 uses out of 99,457**"
   ]
  },
  {
   "cell_type": "code",
   "execution_count": 4,
   "id": "752e5761",
   "metadata": {},
   "outputs": [
    {
     "name": "stdout",
     "output_type": "stream",
     "text": [
      "Cash           44447\n",
      "Credit Card    34931\n",
      "Debit Card     20079\n",
      "Name: payment_method, dtype: int64\n"
     ]
    }
   ],
   "source": [
    "payment_method_list = product_invoice_data['payment_method'].value_counts()\n",
    "print(payment_method_list)"
   ]
  },
  {
   "cell_type": "markdown",
   "id": "ce19861f",
   "metadata": {},
   "source": [
    "MEDIUM 1. What are the three most popular categories, by total sales? // **ANSWER: Clothing, Shoes, and Technology. (See table below)**"
   ]
  },
  {
   "cell_type": "code",
   "execution_count": 13,
   "id": "0203c045",
   "metadata": {
    "scrolled": true
   },
   "outputs": [
    {
     "name": "stdout",
     "output_type": "stream",
     "text": [
      "                  total_sales\n",
      "category                     \n",
      "Books            8.345529e+05\n",
      "Clothing         1.139968e+08\n",
      "Cosmetics        6.792863e+06\n",
      "Food & Beverage  8.495351e+05\n",
      "Shoes            6.655345e+07\n",
      "Souvenir         6.358247e+05\n",
      "Technology       5.786235e+07\n",
      "Toys             3.980426e+06\n"
     ]
    }
   ],
   "source": [
    "import pandas as pd\n",
    "product_invoice_data = pd.read_csv('fct_invoice.csv')\n",
    "\n",
    "product_invoice_data['total_sales'] = product_invoice_data['quantity'] * product_invoice_data['price']\n",
    "output_df = product_invoice_data[['category', 'total_sales']]\n",
    "print(output_df.groupby('category').sum())"
   ]
  },
  {
   "cell_type": "markdown",
   "id": "a432cc8c",
   "metadata": {},
   "source": [
    "2. What are the total sales attributed to customers over the age of 45? // **ANSWER: 82039768.14999999**"
   ]
  },
  {
   "cell_type": "code",
   "execution_count": 9,
   "id": "ce34ff20",
   "metadata": {},
   "outputs": [
    {
     "name": "stdout",
     "output_type": "stream",
     "text": [
      "82039768.14999999\n"
     ]
    }
   ],
   "source": [
    "import pandas as pd\n",
    "\n",
    "customer_data = pd.read_json('dim_customer.json')\n",
    "merge_pd = pd.merge(customer_data, product_invoice_data, left_on='id', right_on='customer_id', how='left')\n",
    "\n",
    "filtered_df = merge_pd[merge_pd['age'] > 45]\n",
    "output = filtered_df['price'] * filtered_df['quantity']\n",
    "print(output.sum())"
   ]
  },
  {
   "cell_type": "markdown",
   "id": "f761eb00",
   "metadata": {},
   "source": [
    "3. How is the data distributed across different invoice dates? Are there any seasonal trends or patterns? (Use a graph for this.)"
   ]
  },
  {
   "cell_type": "code",
   "execution_count": 26,
   "id": "6043f39f",
   "metadata": {},
   "outputs": [
    {
     "name": "stdout",
     "output_type": "stream",
     "text": [
      "      Month-Year  quantity\n",
      "0        2022/08         5\n",
      "1        2021/12         3\n",
      "2        2021/11         1\n",
      "3        2021/05         5\n",
      "4        2021/10         4\n",
      "...          ...       ...\n",
      "99452    2022/09         5\n",
      "99453    2021/09         2\n",
      "99454    2021/03         2\n",
      "99455    2021/03         4\n",
      "99456    2022/10         3\n",
      "\n",
      "[99457 rows x 2 columns]\n"
     ]
    },
    {
     "data": {
      "text/plain": [
       "([0,\n",
       "  1,\n",
       "  2,\n",
       "  3,\n",
       "  4,\n",
       "  5,\n",
       "  6,\n",
       "  7,\n",
       "  8,\n",
       "  9,\n",
       "  10,\n",
       "  11,\n",
       "  12,\n",
       "  13,\n",
       "  14,\n",
       "  15,\n",
       "  16,\n",
       "  17,\n",
       "  18,\n",
       "  19,\n",
       "  20,\n",
       "  21,\n",
       "  22,\n",
       "  23,\n",
       "  24,\n",
       "  25,\n",
       "  26],\n",
       " [Text(0, 0, '2021/01'),\n",
       "  Text(1, 0, '2021/02'),\n",
       "  Text(2, 0, '2021/03'),\n",
       "  Text(3, 0, '2021/04'),\n",
       "  Text(4, 0, '2021/05'),\n",
       "  Text(5, 0, '2021/06'),\n",
       "  Text(6, 0, '2021/07'),\n",
       "  Text(7, 0, '2021/08'),\n",
       "  Text(8, 0, '2021/09'),\n",
       "  Text(9, 0, '2021/10'),\n",
       "  Text(10, 0, '2021/11'),\n",
       "  Text(11, 0, '2021/12'),\n",
       "  Text(12, 0, '2022/01'),\n",
       "  Text(13, 0, '2022/02'),\n",
       "  Text(14, 0, '2022/03'),\n",
       "  Text(15, 0, '2022/04'),\n",
       "  Text(16, 0, '2022/05'),\n",
       "  Text(17, 0, '2022/06'),\n",
       "  Text(18, 0, '2022/07'),\n",
       "  Text(19, 0, '2022/08'),\n",
       "  Text(20, 0, '2022/09'),\n",
       "  Text(21, 0, '2022/10'),\n",
       "  Text(22, 0, '2022/11'),\n",
       "  Text(23, 0, '2022/12'),\n",
       "  Text(24, 0, '2023/01'),\n",
       "  Text(25, 0, '2023/02'),\n",
       "  Text(26, 0, '2023/03')])"
      ]
     },
     "execution_count": 26,
     "metadata": {},
     "output_type": "execute_result"
    },
    {
     "data": {
      "image/png": "[encoded data removed]",
      "text/plain": [
       "<Figure size 1000x500 with 1 Axes>"
      ]
     },
     "metadata": {},
     "output_type": "display_data"
    }
   ],
   "source": [
    "import datetime\n",
    "\n",
    "product_invoice_data['Date'] = pd.to_datetime(product_invoice_data.invoice_date, format='%d/%m/%Y')\n",
    "product_invoice_data['Month-Year'] = product_invoice_data['Date'].dt.strftime('%Y/%m')\n",
    "\n",
    "import requests\n",
    "import matplotlib.pyplot as plt\n",
    "\n",
    "filtered_data = product_invoice_data[['Month-Year', 'quantity']]\n",
    "date_points = filtered_data.groupby('Month-Year').sum()\n",
    "\n",
    "\n",
    "fig = plt.figure(figsize=(10, 5), facecolor='lightskyblue', layout='constrained')\n",
    "fig.suptitle('Quantity of Sales by Month')\n",
    "ax = fig.add_subplot()\n",
    "ax.set_title('Axes', loc='left', fontstyle='oblique', fontsize='medium')\n",
    "ax.plot(date_points)\n",
    "plt.xticks(rotation = 45)\n"
   ]
  },
  {
   "cell_type": "markdown",
   "id": "374e2169",
   "metadata": {},
   "source": [
    "**GRAPH EXPLANATION**: The graph above displays the quantity of sales by month across all malls and categories. This provides insight into the more generalizable trends surrounding customer purchasing behavior across the years.\n",
    "\n",
    "Based on this data, there appears to be a regular dip in sales around February each year, with a similar but less severe decrease occuring in Septembers as well. This contrasts the higher volumes in the midyear at around June and July. \n",
    "\n",
    "Finally, it must be noted that the sales data for March of 2023 is incomplete, resulting in the large dip in sales in the graph.\n"
   ]
  },
  {
   "cell_type": "markdown",
   "id": "4d94d8a8",
   "metadata": {},
   "source": [
    "HARD 1. Create a pivot table showing the breakdown of sales across these dimensions, in this order: category, decade age range (e.g., 10-19, 20-29, and so forth)."
   ]
  },
  {
   "cell_type": "code",
   "execution_count": 32,
   "id": "5d43bf3d",
   "metadata": {},
   "outputs": [
    {
     "name": "stdout",
     "output_type": "stream",
     "text": [
      "age               (10, 20]    (20, 30]    (30, 40]    (40, 50]    (50, 60]  \\\n",
      "category                                                                     \n",
      "Books              5317.65    21861.45    23058.30    22285.65    21785.70   \n",
      "Clothing         816817.76  2770638.64  3118131.28  2999599.68  2941384.16   \n",
      "Cosmetics         47897.48   162599.34   197810.90   178172.12   171341.24   \n",
      "Food & Beverage    5580.41    20548.67    24324.73    23236.89    21474.38   \n",
      "Shoes            382908.46  1686477.70  1909140.77  1821515.95  1699681.44   \n",
      "Souvenir           5372.34    14861.91    17442.51    17454.24    15858.96   \n",
      "Technology       459900.00  1378650.00  1687350.00  1593900.00  1283100.00   \n",
      "Toys              26808.32   101821.44   116802.56   103613.44    98452.48   \n",
      "\n",
      "age                (60, 70]    (70, 80]    (80, 90]  \n",
      "category                                             \n",
      "Books              20513.10    15619.65     6196.35  \n",
      "Clothing         2724726.40  2146772.32  1020572.08  \n",
      "Cosmetics         162233.40   117263.44    59770.20  \n",
      "Food & Beverage    20752.64    15135.62     6945.44  \n",
      "Shoes            1483020.07  1280762.78   570761.67  \n",
      "Souvenir           14251.95    10639.11     5571.75  \n",
      "Technology       1455300.00  1012200.00   420000.00  \n",
      "Toys               92933.12    78095.36    35230.72  \n"
     ]
    }
   ],
   "source": [
    "merge_pd = pd.merge(customer_data, product_invoice_data, left_on='id', right_on='customer_id', how='left')\n",
    "sorted_df = merge_pd.groupby(['category', pd.cut(merge_pd['age'], [10, 20, 30, 40, 50, 60, 70, 80, 90])]).sum()\n",
    "sorted2_df = sorted_df[['price']]\n",
    "\n",
    "pivot_table = pd.pivot_table(sorted2_df, values='price', index='category', columns='age', aggfunc=sum, fill_value=0)\n",
    "print(pivot_table)\n",
    "\n",
    "\n",
    "pd.set_option('display.max_rows', None)\n"
   ]
  },
  {
   "cell_type": "code",
   "execution_count": null,
   "id": "a9f5251e",
   "metadata": {},
   "outputs": [],
   "source": []
  }
 ],
 "metadata": {
  "kernelspec": {
   "display_name": "Python 3 (ipykernel)",
   "language": "python",
   "name": "python3"
  },
  "language_info": {
   "codemirror_mode": {
    "name": "ipython",
    "version": 3
   },
   "file_extension": ".py",
   "mimetype": "text/x-python",
   "name": "python",
   "nbconvert_exporter": "python",
   "pygments_lexer": "ipython3",
   "version": "3.10.2"
  }
 },
 "nbformat": 4,
 "nbformat_minor": 5
}
