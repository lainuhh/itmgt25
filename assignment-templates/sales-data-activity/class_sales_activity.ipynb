{
 "cells": [
  {
   "cell_type": "code",
   "execution_count": 9,
   "id": "336ef777",
   "metadata": {
    "collapsed": true
   },
   "outputs": [
    {
     "ename": "AttributeError",
     "evalue": "'Series' object has no attribute 'sorted'",
     "output_type": "error",
     "traceback": [
      "\u001b[0;31m---------------------------------------------------------------------------\u001b[0m",
      "\u001b[0;31mAttributeError\u001b[0m                            Traceback (most recent call last)",
      "\u001b[0;32m/var/folders/bn/rm3rchsx69z9q28q_730w3x40000gn/T/ipykernel_1625/3938306140.py\u001b[0m in \u001b[0;36m?\u001b[0;34m()\u001b[0m\n\u001b[1;32m      4\u001b[0m \u001b[0;34m\u001b[0m\u001b[0m\n\u001b[1;32m      5\u001b[0m \u001b[0mproduct_invoice_data\u001b[0m \u001b[0;34m=\u001b[0m \u001b[0mpd\u001b[0m\u001b[0;34m.\u001b[0m\u001b[0mread_csv\u001b[0m\u001b[0;34m(\u001b[0m\u001b[0;34m'fct_invoice.csv'\u001b[0m\u001b[0;34m)\u001b[0m\u001b[0;34m\u001b[0m\u001b[0;34m\u001b[0m\u001b[0m\n\u001b[1;32m      6\u001b[0m \u001b[0;34m\u001b[0m\u001b[0m\n\u001b[1;32m      7\u001b[0m \u001b[0mdate_points\u001b[0m \u001b[0;34m=\u001b[0m \u001b[0mproduct_invoice_data\u001b[0m\u001b[0;34m[\u001b[0m\u001b[0;34m'invoice_date'\u001b[0m\u001b[0;34m]\u001b[0m\u001b[0;34m.\u001b[0m\u001b[0mvalue_counts\u001b[0m\u001b[0;34m(\u001b[0m\u001b[0;34m)\u001b[0m\u001b[0;34m\u001b[0m\u001b[0;34m\u001b[0m\u001b[0m\n\u001b[0;32m----> 8\u001b[0;31m \u001b[0mprint\u001b[0m\u001b[0;34m(\u001b[0m\u001b[0mdate_points\u001b[0m\u001b[0;34m.\u001b[0m\u001b[0msorted\u001b[0m\u001b[0;34m(\u001b[0m\u001b[0;34m)\u001b[0m\u001b[0;34m)\u001b[0m\u001b[0;34m\u001b[0m\u001b[0;34m\u001b[0m\u001b[0m\n\u001b[0m\u001b[1;32m      9\u001b[0m \u001b[0;34m\u001b[0m\u001b[0m\n\u001b[1;32m     10\u001b[0m \u001b[0;34m\u001b[0m\u001b[0m\n\u001b[1;32m     11\u001b[0m fig = plt.figure(figsize=(50, 50), facecolor='lightskyblue',\n",
      "\u001b[0;32m/Library/Frameworks/Python.framework/Versions/3.10/lib/python3.10/site-packages/pandas/core/generic.py\u001b[0m in \u001b[0;36m?\u001b[0;34m(self, name)\u001b[0m\n\u001b[1;32m   5571\u001b[0m             \u001b[0;32mand\u001b[0m \u001b[0mname\u001b[0m \u001b[0;32mnot\u001b[0m \u001b[0;32min\u001b[0m \u001b[0mself\u001b[0m\u001b[0;34m.\u001b[0m\u001b[0m_accessors\u001b[0m\u001b[0;34m\u001b[0m\u001b[0;34m\u001b[0m\u001b[0m\n\u001b[1;32m   5572\u001b[0m             \u001b[0;32mand\u001b[0m \u001b[0mself\u001b[0m\u001b[0;34m.\u001b[0m\u001b[0m_info_axis\u001b[0m\u001b[0;34m.\u001b[0m\u001b[0m_can_hold_identifiers_and_holds_name\u001b[0m\u001b[0;34m(\u001b[0m\u001b[0mname\u001b[0m\u001b[0;34m)\u001b[0m\u001b[0;34m\u001b[0m\u001b[0;34m\u001b[0m\u001b[0m\n\u001b[1;32m   5573\u001b[0m         ):\n\u001b[1;32m   5574\u001b[0m             \u001b[0;32mreturn\u001b[0m \u001b[0mself\u001b[0m\u001b[0;34m[\u001b[0m\u001b[0mname\u001b[0m\u001b[0;34m]\u001b[0m\u001b[0;34m\u001b[0m\u001b[0;34m\u001b[0m\u001b[0m\n\u001b[0;32m-> 5575\u001b[0;31m         \u001b[0;32mreturn\u001b[0m \u001b[0mobject\u001b[0m\u001b[0;34m.\u001b[0m\u001b[0m__getattribute__\u001b[0m\u001b[0;34m(\u001b[0m\u001b[0mself\u001b[0m\u001b[0;34m,\u001b[0m \u001b[0mname\u001b[0m\u001b[0;34m)\u001b[0m\u001b[0;34m\u001b[0m\u001b[0;34m\u001b[0m\u001b[0m\n\u001b[0m",
      "\u001b[0;31mAttributeError\u001b[0m: 'Series' object has no attribute 'sorted'"
     ]
    }
   ],
   "source": [
    "import pandas as pd\n",
    "import requests\n",
    "import matplotlib.pyplot as plt\n",
    "\n",
    "product_invoice_data = pd.read_csv('fct_invoice.csv')\n",
    "\n",
    "date_points = product_invoice_data['invoice_date']\n",
    "print(date_points)\n",
    "\n",
    "fig = plt.figure(figsize=(10, 10), facecolor='lightskyblue',\n",
    "                 layout='constrained')\n",
    "fig.suptitle('Invoice Dates')\n",
    "ax = fig.add_subplot()\n",
    "ax.set_title('Axes', loc='left', fontstyle='oblique', fontsize='medium')\n",
    "ax.plot(date_points)\n"
   ]
  },
  {
   "cell_type": "code",
   "execution_count": 13,
   "id": "932131c1",
   "metadata": {
    "collapsed": true
   },
   "outputs": [
    {
     "ename": "ValueError",
     "evalue": "array length 1 does not match index length 99457",
     "output_type": "error",
     "traceback": [
      "\u001b[0;31m---------------------------------------------------------------------------\u001b[0m",
      "\u001b[0;31mValueError\u001b[0m                                Traceback (most recent call last)",
      "Cell \u001b[0;32mIn[13], line 13\u001b[0m\n\u001b[1;32m     10\u001b[0m numeric_dates \u001b[38;5;241m=\u001b[39m mdates\u001b[38;5;241m.\u001b[39mdatestr2num(dates)\n\u001b[1;32m     12\u001b[0m \u001b[38;5;66;03m# Group the data by season\u001b[39;00m\n\u001b[0;32m---> 13\u001b[0m df \u001b[38;5;241m=\u001b[39m \u001b[43mpd\u001b[49m\u001b[38;5;241;43m.\u001b[39;49m\u001b[43mDataFrame\u001b[49m\u001b[43m(\u001b[49m\u001b[43m{\u001b[49m\u001b[38;5;124;43m'\u001b[39;49m\u001b[38;5;124;43mDates\u001b[39;49m\u001b[38;5;124;43m'\u001b[39;49m\u001b[43m:\u001b[49m\u001b[43m \u001b[49m\u001b[43mdates\u001b[49m\u001b[43m,\u001b[49m\u001b[43m \u001b[49m\u001b[38;5;124;43m'\u001b[39;49m\u001b[38;5;124;43mPurchases\u001b[39;49m\u001b[38;5;124;43m'\u001b[39;49m\u001b[43m:\u001b[49m\u001b[43m \u001b[49m\u001b[43mpurchases\u001b[49m\u001b[43m}\u001b[49m\u001b[43m)\u001b[49m\n\u001b[1;32m     14\u001b[0m df[\u001b[38;5;124m'\u001b[39m\u001b[38;5;124mDates\u001b[39m\u001b[38;5;124m'\u001b[39m] \u001b[38;5;241m=\u001b[39m pd\u001b[38;5;241m.\u001b[39mto_datetime(df[\u001b[38;5;124m'\u001b[39m\u001b[38;5;124mDates\u001b[39m\u001b[38;5;124m'\u001b[39m])\n\u001b[1;32m     15\u001b[0m df[\u001b[38;5;124m'\u001b[39m\u001b[38;5;124mSeason\u001b[39m\u001b[38;5;124m'\u001b[39m] \u001b[38;5;241m=\u001b[39m pd\u001b[38;5;241m.\u001b[39mcut(df[\u001b[38;5;124m'\u001b[39m\u001b[38;5;124mDates\u001b[39m\u001b[38;5;124m'\u001b[39m]\u001b[38;5;241m.\u001b[39mdt\u001b[38;5;241m.\u001b[39mmonth, [\u001b[38;5;241m0\u001b[39m, \u001b[38;5;241m3\u001b[39m, \u001b[38;5;241m6\u001b[39m, \u001b[38;5;241m9\u001b[39m, \u001b[38;5;241m12\u001b[39m], labels\u001b[38;5;241m=\u001b[39m[\u001b[38;5;124m'\u001b[39m\u001b[38;5;124mWinter\u001b[39m\u001b[38;5;124m'\u001b[39m, \u001b[38;5;124m'\u001b[39m\u001b[38;5;124mSpring\u001b[39m\u001b[38;5;124m'\u001b[39m, \u001b[38;5;124m'\u001b[39m\u001b[38;5;124mSummer\u001b[39m\u001b[38;5;124m'\u001b[39m, \u001b[38;5;124m'\u001b[39m\u001b[38;5;124mFall\u001b[39m\u001b[38;5;124m'\u001b[39m])\n",
      "File \u001b[0;32m/Library/Frameworks/Python.framework/Versions/3.10/lib/python3.10/site-packages/pandas/core/frame.py:636\u001b[0m, in \u001b[0;36mDataFrame.__init__\u001b[0;34m(self, data, index, columns, dtype, copy)\u001b[0m\n\u001b[1;32m    630\u001b[0m     mgr \u001b[38;5;241m=\u001b[39m \u001b[38;5;28mself\u001b[39m\u001b[38;5;241m.\u001b[39m_init_mgr(\n\u001b[1;32m    631\u001b[0m         data, axes\u001b[38;5;241m=\u001b[39m{\u001b[38;5;124m\"\u001b[39m\u001b[38;5;124mindex\u001b[39m\u001b[38;5;124m\"\u001b[39m: index, \u001b[38;5;124m\"\u001b[39m\u001b[38;5;124mcolumns\u001b[39m\u001b[38;5;124m\"\u001b[39m: columns}, dtype\u001b[38;5;241m=\u001b[39mdtype, copy\u001b[38;5;241m=\u001b[39mcopy\n\u001b[1;32m    632\u001b[0m     )\n\u001b[1;32m    634\u001b[0m \u001b[38;5;28;01melif\u001b[39;00m \u001b[38;5;28misinstance\u001b[39m(data, \u001b[38;5;28mdict\u001b[39m):\n\u001b[1;32m    635\u001b[0m     \u001b[38;5;66;03m# GH#38939 de facto copy defaults to False only in non-dict cases\u001b[39;00m\n\u001b[0;32m--> 636\u001b[0m     mgr \u001b[38;5;241m=\u001b[39m \u001b[43mdict_to_mgr\u001b[49m\u001b[43m(\u001b[49m\u001b[43mdata\u001b[49m\u001b[43m,\u001b[49m\u001b[43m \u001b[49m\u001b[43mindex\u001b[49m\u001b[43m,\u001b[49m\u001b[43m \u001b[49m\u001b[43mcolumns\u001b[49m\u001b[43m,\u001b[49m\u001b[43m \u001b[49m\u001b[43mdtype\u001b[49m\u001b[38;5;241;43m=\u001b[39;49m\u001b[43mdtype\u001b[49m\u001b[43m,\u001b[49m\u001b[43m \u001b[49m\u001b[43mcopy\u001b[49m\u001b[38;5;241;43m=\u001b[39;49m\u001b[43mcopy\u001b[49m\u001b[43m,\u001b[49m\u001b[43m \u001b[49m\u001b[43mtyp\u001b[49m\u001b[38;5;241;43m=\u001b[39;49m\u001b[43mmanager\u001b[49m\u001b[43m)\u001b[49m\n\u001b[1;32m    637\u001b[0m \u001b[38;5;28;01melif\u001b[39;00m \u001b[38;5;28misinstance\u001b[39m(data, ma\u001b[38;5;241m.\u001b[39mMaskedArray):\n\u001b[1;32m    638\u001b[0m     \u001b[38;5;28;01mimport\u001b[39;00m \u001b[38;5;21;01mnumpy\u001b[39;00m\u001b[38;5;21;01m.\u001b[39;00m\u001b[38;5;21;01mma\u001b[39;00m\u001b[38;5;21;01m.\u001b[39;00m\u001b[38;5;21;01mmrecords\u001b[39;00m \u001b[38;5;28;01mas\u001b[39;00m \u001b[38;5;21;01mmrecords\u001b[39;00m\n",
      "File \u001b[0;32m/Library/Frameworks/Python.framework/Versions/3.10/lib/python3.10/site-packages/pandas/core/internals/construction.py:502\u001b[0m, in \u001b[0;36mdict_to_mgr\u001b[0;34m(data, index, columns, dtype, typ, copy)\u001b[0m\n\u001b[1;32m    494\u001b[0m     arrays \u001b[38;5;241m=\u001b[39m [\n\u001b[1;32m    495\u001b[0m         x\n\u001b[1;32m    496\u001b[0m         \u001b[38;5;28;01mif\u001b[39;00m \u001b[38;5;129;01mnot\u001b[39;00m \u001b[38;5;28mhasattr\u001b[39m(x, \u001b[38;5;124m\"\u001b[39m\u001b[38;5;124mdtype\u001b[39m\u001b[38;5;124m\"\u001b[39m) \u001b[38;5;129;01mor\u001b[39;00m \u001b[38;5;129;01mnot\u001b[39;00m \u001b[38;5;28misinstance\u001b[39m(x\u001b[38;5;241m.\u001b[39mdtype, ExtensionDtype)\n\u001b[1;32m    497\u001b[0m         \u001b[38;5;28;01melse\u001b[39;00m x\u001b[38;5;241m.\u001b[39mcopy()\n\u001b[1;32m    498\u001b[0m         \u001b[38;5;28;01mfor\u001b[39;00m x \u001b[38;5;129;01min\u001b[39;00m arrays\n\u001b[1;32m    499\u001b[0m     ]\n\u001b[1;32m    500\u001b[0m     \u001b[38;5;66;03m# TODO: can we get rid of the dt64tz special case above?\u001b[39;00m\n\u001b[0;32m--> 502\u001b[0m \u001b[38;5;28;01mreturn\u001b[39;00m \u001b[43marrays_to_mgr\u001b[49m\u001b[43m(\u001b[49m\u001b[43marrays\u001b[49m\u001b[43m,\u001b[49m\u001b[43m \u001b[49m\u001b[43mcolumns\u001b[49m\u001b[43m,\u001b[49m\u001b[43m \u001b[49m\u001b[43mindex\u001b[49m\u001b[43m,\u001b[49m\u001b[43m \u001b[49m\u001b[43mdtype\u001b[49m\u001b[38;5;241;43m=\u001b[39;49m\u001b[43mdtype\u001b[49m\u001b[43m,\u001b[49m\u001b[43m \u001b[49m\u001b[43mtyp\u001b[49m\u001b[38;5;241;43m=\u001b[39;49m\u001b[43mtyp\u001b[49m\u001b[43m,\u001b[49m\u001b[43m \u001b[49m\u001b[43mconsolidate\u001b[49m\u001b[38;5;241;43m=\u001b[39;49m\u001b[43mcopy\u001b[49m\u001b[43m)\u001b[49m\n",
      "File \u001b[0;32m/Library/Frameworks/Python.framework/Versions/3.10/lib/python3.10/site-packages/pandas/core/internals/construction.py:120\u001b[0m, in \u001b[0;36marrays_to_mgr\u001b[0;34m(arrays, columns, index, dtype, verify_integrity, typ, consolidate)\u001b[0m\n\u001b[1;32m    117\u001b[0m \u001b[38;5;28;01mif\u001b[39;00m verify_integrity:\n\u001b[1;32m    118\u001b[0m     \u001b[38;5;66;03m# figure out the index, if necessary\u001b[39;00m\n\u001b[1;32m    119\u001b[0m     \u001b[38;5;28;01mif\u001b[39;00m index \u001b[38;5;129;01mis\u001b[39;00m \u001b[38;5;28;01mNone\u001b[39;00m:\n\u001b[0;32m--> 120\u001b[0m         index \u001b[38;5;241m=\u001b[39m \u001b[43m_extract_index\u001b[49m\u001b[43m(\u001b[49m\u001b[43marrays\u001b[49m\u001b[43m)\u001b[49m\n\u001b[1;32m    121\u001b[0m     \u001b[38;5;28;01melse\u001b[39;00m:\n\u001b[1;32m    122\u001b[0m         index \u001b[38;5;241m=\u001b[39m ensure_index(index)\n",
      "File \u001b[0;32m/Library/Frameworks/Python.framework/Versions/3.10/lib/python3.10/site-packages/pandas/core/internals/construction.py:688\u001b[0m, in \u001b[0;36m_extract_index\u001b[0;34m(data)\u001b[0m\n\u001b[1;32m    683\u001b[0m     \u001b[38;5;28;01mif\u001b[39;00m lengths[\u001b[38;5;241m0\u001b[39m] \u001b[38;5;241m!=\u001b[39m \u001b[38;5;28mlen\u001b[39m(index):\n\u001b[1;32m    684\u001b[0m         msg \u001b[38;5;241m=\u001b[39m (\n\u001b[1;32m    685\u001b[0m             \u001b[38;5;124mf\u001b[39m\u001b[38;5;124m\"\u001b[39m\u001b[38;5;124marray length \u001b[39m\u001b[38;5;132;01m{\u001b[39;00mlengths[\u001b[38;5;241m0\u001b[39m]\u001b[38;5;132;01m}\u001b[39;00m\u001b[38;5;124m does not match index \u001b[39m\u001b[38;5;124m\"\u001b[39m\n\u001b[1;32m    686\u001b[0m             \u001b[38;5;124mf\u001b[39m\u001b[38;5;124m\"\u001b[39m\u001b[38;5;124mlength \u001b[39m\u001b[38;5;132;01m{\u001b[39;00m\u001b[38;5;28mlen\u001b[39m(index)\u001b[38;5;132;01m}\u001b[39;00m\u001b[38;5;124m\"\u001b[39m\n\u001b[1;32m    687\u001b[0m         )\n\u001b[0;32m--> 688\u001b[0m         \u001b[38;5;28;01mraise\u001b[39;00m \u001b[38;5;167;01mValueError\u001b[39;00m(msg)\n\u001b[1;32m    689\u001b[0m \u001b[38;5;28;01melse\u001b[39;00m:\n\u001b[1;32m    690\u001b[0m     index \u001b[38;5;241m=\u001b[39m default_index(lengths[\u001b[38;5;241m0\u001b[39m])\n",
      "\u001b[0;31mValueError\u001b[0m: array length 1 does not match index length 99457"
     ]
    }
   ],
   "source": [
    "import matplotlib.pyplot as plt\n",
    "import matplotlib.dates as mdates\n",
    "import pandas as pd\n",
    "\n",
    "# Assuming you have your dates and purchases data\n",
    "dates = product_invoice_data['invoice_date']  # List of dates\n",
    "purchases = [...]  # List of purchase amounts\n",
    "\n",
    "# Convert dates to numerical format\n",
    "numeric_dates = mdates.datestr2num(dates)\n",
    "\n",
    "# Group the data by season\n",
    "df = pd.DataFrame({'Dates': dates, 'Purchases': purchases})\n",
    "df['Dates'] = pd.to_datetime(df['Dates'])\n",
    "df['Season'] = pd.cut(df['Dates'].dt.month, [0, 3, 6, 9, 12], labels=['Winter', 'Spring', 'Summer', 'Fall'])\n",
    "season_data = df.groupby('Season')['Purchases'].sum()\n",
    "\n",
    "# Create the plot\n",
    "plt.bar(season_data.index, season_data)\n",
    "plt.xlabel('Seasons')\n",
    "plt.ylabel('Amount of Purchases')\n",
    "plt.title('Purchases by Season')\n",
    "plt.show()\n"
   ]
  },
  {
   "cell_type": "code",
   "execution_count": 15,
   "id": "5145c05e",
   "metadata": {},
   "outputs": [
    {
     "name": "stdout",
     "output_type": "stream",
     "text": [
      "invoice_date  category  shopping_mall     quantity\n",
      "19/05/2021    Clothing  Kanyon            5           10\n",
      "26/10/2021    Clothing  Kanyon            1            7\n",
      "8/11/2021     Clothing  Metropol AVM      4            7\n",
      "7/11/2021     Clothing  Mall of Istanbul  3            7\n",
      "31/01/2023    Clothing  Kanyon            2            7\n",
      "                                                      ..\n",
      "2/3/2022      Clothing  Mall of Istanbul  3            1\n",
      "                                          4            1\n",
      "                        Metrocity         5            1\n",
      "                        Metropol AVM      2            1\n",
      "9/9/2022      Toys      Viaport Outlet    3            1\n",
      "Length: 75501, dtype: int64\n"
     ]
    }
   ],
   "source": [
    "import pandas as pd\n",
    "\n",
    "customer_data = pd.read_json('dim_customer.json')\n",
    "product_invoice_data = pd.read_csv('fct_invoice.csv')\n",
    "\n",
    "date_item_mall_invoice = product_invoice_data[['invoice_date', 'category', 'shopping_mall', 'quantity']].value_counts()\n",
    "print(date_item_mall_invoice)"
   ]
  },
  {
   "cell_type": "code",
   "execution_count": null,
   "id": "787f005d",
   "metadata": {},
   "outputs": [],
   "source": [
    "import requests\n",
    "import matplotlib.pyplot as plt\n",
    "\n",
    "date_points = \n",
    "\n",
    "\n",
    "fig = plt.figure(figsize=(5, 5), facecolor='lightskyblue',\n",
    "                 layout='constrained')\n",
    "fig.suptitle('Invoice Dates')\n",
    "ax = fig.add_subplot()\n",
    "ax.set_title('Axes', loc='left', fontstyle='oblique', fontsize='medium')\n",
    "ax.plot(date_points)\n"
   ]
  },
  {
   "cell_type": "code",
   "execution_count": null,
   "id": "fc403796",
   "metadata": {},
   "outputs": [],
   "source": [
    "import pandas as pd\n",
    "\n",
    "customer_data = pd.read_json('dim_customer.json')\n",
    "product_invoice_data = pd.read_csv('fct_invoice.csv')\n",
    "\n",
    "product_categories_invoice = product_invoice_data[['category', 'payment_method']].value_counts()\n",
    "print(product_categories_invoice)"
   ]
  },
  {
   "cell_type": "code",
   "execution_count": null,
   "id": "322729cd",
   "metadata": {},
   "outputs": [],
   "source": [
    "product_mall_invoice = product_invoice_data[['category', 'shopping_mall']].value_counts()\n",
    "print(product_mall_invoice)"
   ]
  },
  {
   "cell_type": "code",
   "execution_count": 2,
   "id": "77d4c41f",
   "metadata": {},
   "outputs": [
    {
     "name": "stdout",
     "output_type": "stream",
     "text": [
      "category         gender\n",
      "Clothing         F         17808\n",
      "                 M         16679\n",
      "Cosmetics        F          7785\n",
      "Food & Beverage  F          7696\n",
      "Cosmetics        M          7312\n",
      "Food & Beverage  M          7080\n",
      "Toys             F          5253\n",
      "Shoes            F          5167\n",
      "                 M          4867\n",
      "Toys             M          4834\n",
      "Books            F          2573\n",
      "Souvenir         F          2571\n",
      "Technology       F          2533\n",
      "                 M          2463\n",
      "Souvenir         M          2428\n",
      "Books            M          2408\n",
      "dtype: int64\n"
     ]
    }
   ],
   "source": [
    "import pandas as pd\n",
    "\n",
    "customer_data = pd.read_json('dim_customer.json')\n",
    "product_invoice_data = pd.read_csv('fct_invoice.csv')\n",
    "\n",
    "merge_pd = pd.merge(customer_data, product_invoice_data, left_on='id', right_on='customer_id', how='left')\n",
    "\n",
    "# Select desired columns from the merged DataFrame\n",
    "output_df = merge_pd[['category', 'gender']].value_counts()\n",
    "\n",
    "# Print the output DataFrame\n",
    "print(output_df)"
   ]
  },
  {
   "cell_type": "code",
   "execution_count": 3,
   "id": "40ac606b",
   "metadata": {},
   "outputs": [
    {
     "name": "stdout",
     "output_type": "stream",
     "text": [
      "   gender    category   revenue\n",
      "0       F    Clothing   1200.32\n",
      "1       F    Clothing   7502.00\n",
      "2       F    Clothing    300.08\n",
      "3       F    Clothing   2700.72\n",
      "4       F    Clothing   4801.28\n",
      "..    ...         ...       ...\n",
      "75      M  Technology  26250.00\n",
      "76      M    Souvenir    293.25\n",
      "77      M       Books     60.60\n",
      "78      M       Books    242.40\n",
      "79      M    Souvenir    187.68\n",
      "\n",
      "[80 rows x 3 columns]\n"
     ]
    }
   ],
   "source": [
    "# NOT FINISHED\n",
    "merge_pd = pd.merge(customer_data, product_invoice_data, left_on='id', right_on='customer_id', how='left')\n",
    "\n",
    "merge_pd['revenue'] = merge_pd['price'] * merge_pd['quantity']\n",
    "iter_df = merge_pd[['category', 'revenue', 'gender']].value_counts().reset_index(name='counts')\n",
    "iter_df['average_spending'] = iter_df['revenue'] * iter_df['counts']\n",
    "output_df = iter_df[['category', 'average_spending', 'gender']]\n",
    "temp_df = iter_df[['gender', 'category', 'revenue']]\n",
    "\n",
    "print(temp_df)\n",
    "\n",
    "# print(output_df)"
   ]
  },
  {
   "cell_type": "code",
   "execution_count": 4,
   "id": "af6fb55d",
   "metadata": {},
   "outputs": [
    {
     "name": "stdout",
     "output_type": "stream",
     "text": [
      "category         gender\n",
      "Clothing         F         17808\n",
      "                 M         16679\n",
      "Cosmetics        F          7785\n",
      "Food & Beverage  F          7696\n",
      "Cosmetics        M          7312\n",
      "Food & Beverage  M          7080\n",
      "Toys             F          5253\n",
      "Shoes            F          5167\n",
      "                 M          4867\n",
      "Toys             M          4834\n",
      "Books            F          2573\n",
      "Souvenir         F          2571\n",
      "Technology       F          2533\n",
      "                 M          2463\n",
      "Souvenir         M          2428\n",
      "Books            M          2408\n",
      "dtype: int64\n"
     ]
    }
   ],
   "source": [
    "merge_pd = pd.merge(customer_data, product_invoice_data, left_on='id', right_on='customer_id', how='left')\n",
    "\n",
    "output_df = merge_pd[['category', 'gender']].value_counts()\n",
    "\n",
    "print(output_df)"
   ]
  },
  {
   "cell_type": "code",
   "execution_count": 5,
   "id": "51cef208",
   "metadata": {},
   "outputs": [
    {
     "name": "stdout",
     "output_type": "stream",
     "text": [
      "shopping_mall      gender\n",
      "Kanyon             F         10244\n",
      "Mall of Istanbul   F         10233\n",
      "                   M          9710\n",
      "Kanyon             M          9579\n",
      "Metrocity          F          7756\n",
      "                   M          7255\n",
      "Metropol AVM       F          5230\n",
      "Istinye Park       F          5016\n",
      "Metropol AVM       M          4931\n",
      "Istinye Park       M          4765\n",
      "Zorlu Center       F          2665\n",
      "Forum Istanbul     F          2640\n",
      "Cevahir AVM        F          2594\n",
      "Viaport Outlet     F          2548\n",
      "Emaar Square Mall  F          2460\n",
      "Zorlu Center       M          2410\n",
      "Cevahir AVM        M          2397\n",
      "Viaport Outlet     M          2366\n",
      "Emaar Square Mall  M          2351\n",
      "Forum Istanbul     M          2307\n",
      "dtype: int64\n"
     ]
    }
   ],
   "source": [
    "# Merge DataFrames based on column names\n",
    "merge_pd = pd.merge(customer_data, product_invoice_data, left_on='id', right_on='customer_id', how='left')\n",
    "\n",
    "# Select desired columns from the merged DataFrame\n",
    "output_df = merge_pd[['shopping_mall', 'gender']].value_counts()\n",
    "\n",
    "# Print the output DataFrame\n",
    "print(output_df)"
   ]
  },
  {
   "cell_type": "code",
   "execution_count": null,
   "id": "97439ce4",
   "metadata": {},
   "outputs": [],
   "source": []
  }
 ],
 "metadata": {
  "kernelspec": {
   "display_name": "Python 3 (ipykernel)",
   "language": "python",
   "name": "python3"
  },
  "language_info": {
   "codemirror_mode": {
    "name": "ipython",
    "version": 3
   },
   "file_extension": ".py",
   "mimetype": "text/x-python",
   "name": "python",
   "nbconvert_exporter": "python",
   "pygments_lexer": "ipython3",
   "version": "3.10.2"
  }
 },
 "nbformat": 4,
 "nbformat_minor": 5
}
