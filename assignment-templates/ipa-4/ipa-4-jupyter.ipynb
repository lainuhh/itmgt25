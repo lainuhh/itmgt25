{
 "cells": [
  {
   "cell_type": "markdown",
   "id": "a8107f86",
   "metadata": {},
   "source": [
    "1. How many unique customers are in the dataset? // **ANSWER: 5191**"
   ]
  },
  {
   "cell_type": "code",
   "execution_count": 3,
   "id": "08fad0c0",
   "metadata": {
    "collapsed": true
   },
   "outputs": [
    {
     "name": "stderr",
     "output_type": "stream",
     "text": [
      "/var/folders/bn/rm3rchsx69z9q28q_730w3x40000gn/T/ipykernel_6994/2959506372.py:6: FutureWarning: elementwise comparison failed; returning scalar instead, but in the future will perform elementwise comparison\n",
      "  unique_customer_ids = (pd.unique(customer_data['id']) != \"\")\n"
     ]
    },
    {
     "ename": "AttributeError",
     "evalue": "'bool' object has no attribute 'sum'",
     "output_type": "error",
     "traceback": [
      "\u001b[0;31m---------------------------------------------------------------------------\u001b[0m",
      "\u001b[0;31mAttributeError\u001b[0m                            Traceback (most recent call last)",
      "Cell \u001b[0;32mIn[3], line 8\u001b[0m\n\u001b[1;32m      5\u001b[0m customer_data \u001b[38;5;241m=\u001b[39m pd\u001b[38;5;241m.\u001b[39mread_json(\u001b[38;5;124m'\u001b[39m\u001b[38;5;124mdim_customer.json\u001b[39m\u001b[38;5;124m'\u001b[39m)\n\u001b[1;32m      6\u001b[0m unique_customer_ids \u001b[38;5;241m=\u001b[39m (pd\u001b[38;5;241m.\u001b[39munique(customer_data[\u001b[38;5;124m'\u001b[39m\u001b[38;5;124mid\u001b[39m\u001b[38;5;124m'\u001b[39m]) \u001b[38;5;241m!=\u001b[39m \u001b[38;5;124m\"\u001b[39m\u001b[38;5;124m\"\u001b[39m)\n\u001b[0;32m----> 8\u001b[0m \u001b[38;5;28mprint\u001b[39m(\u001b[43munique_customer_ids\u001b[49m\u001b[38;5;241;43m.\u001b[39;49m\u001b[43msum\u001b[49m())\n",
      "\u001b[0;31mAttributeError\u001b[0m: 'bool' object has no attribute 'sum'"
     ]
    }
   ],
   "source": [
    "import pandas as pd\n",
    "\n",
    "# the following code was run on PyCharm where it printed out \"5191\" instead of throwing an error\n",
    "\n",
    "customer_data = pd.read_json('dim_customer.json')\n",
    "unique_customer_ids = (pd.unique(customer_data['id']) != \"\")\n",
    "\n",
    "print(unique_customer_ids.sum())"
   ]
  },
  {
   "cell_type": "markdown",
   "id": "4c9dede5",
   "metadata": {},
   "source": [
    "2. What are the different categories of products available? How many unique categories are there? //  **ANSWER: The categories are as follows: Clothing, Shoes, Books, Cosmetics, Food & Beverage, Toys, Technology, Souvenir. There are 8 categories in total.**"
   ]
  },
  {
   "cell_type": "code",
   "execution_count": 4,
   "id": "26faaa39",
   "metadata": {
    "collapsed": true
   },
   "outputs": [
    {
     "ename": "NameError",
     "evalue": "name 'product_invoice_data' is not defined",
     "output_type": "error",
     "traceback": [
      "\u001b[0;31m---------------------------------------------------------------------------\u001b[0m",
      "\u001b[0;31mNameError\u001b[0m                                 Traceback (most recent call last)",
      "Cell \u001b[0;32mIn[4], line 1\u001b[0m\n\u001b[0;32m----> 1\u001b[0m product_category_list \u001b[38;5;241m=\u001b[39m pd\u001b[38;5;241m.\u001b[39munique(\u001b[43mproduct_invoice_data\u001b[49m[\u001b[38;5;124m'\u001b[39m\u001b[38;5;124mcategory\u001b[39m\u001b[38;5;124m'\u001b[39m])\n\u001b[1;32m      2\u001b[0m num_product_categories \u001b[38;5;241m=\u001b[39m (product_category_list \u001b[38;5;241m!=\u001b[39m \u001b[38;5;124m\"\u001b[39m\u001b[38;5;124m\"\u001b[39m)\u001b[38;5;241m.\u001b[39msum()\n\u001b[1;32m      4\u001b[0m \u001b[38;5;28mprint\u001b[39m(product_category_list, num_product_categories)\n",
      "\u001b[0;31mNameError\u001b[0m: name 'product_invoice_data' is not defined"
     ]
    }
   ],
   "source": [
    "product_category_list = pd.unique(product_invoice_data['category'])\n",
    "num_product_categories = (product_category_list != \"\").sum()\n",
    "\n",
    "print(product_category_list, num_product_categories)"
   ]
  },
  {
   "cell_type": "markdown",
   "id": "5c83bc7e",
   "metadata": {},
   "source": [
    "3. Which payment method is the most popular? How many times was it used?"
   ]
  },
  {
   "cell_type": "code",
   "execution_count": null,
   "id": "752e5761",
   "metadata": {},
   "outputs": [],
   "source": []
  }
 ],
 "metadata": {
  "kernelspec": {
   "display_name": "Python 3 (ipykernel)",
   "language": "python",
   "name": "python3"
  },
  "language_info": {
   "codemirror_mode": {
    "name": "ipython",
    "version": 3
   },
   "file_extension": ".py",
   "mimetype": "text/x-python",
   "name": "python",
   "nbconvert_exporter": "python",
   "pygments_lexer": "ipython3",
   "version": "3.10.2"
  }
 },
 "nbformat": 4,
 "nbformat_minor": 5
}
