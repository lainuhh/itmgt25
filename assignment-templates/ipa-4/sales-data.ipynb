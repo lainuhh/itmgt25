{
 "cells": [
  {
   "cell_type": "markdown",
   "id": "a8107f86",
   "metadata": {},
   "source": [
    "1. How many unique customers are in the dataset? // **ANSWER: 5191**"
   ]
  },
  {
   "cell_type": "code",
   "execution_count": 3,
   "id": "08fad0c0",
   "metadata": {
    "collapsed": true
   },
   "outputs": [
    {
     "name": "stderr",
     "output_type": "stream",
     "text": [
      "/var/folders/bn/rm3rchsx69z9q28q_730w3x40000gn/T/ipykernel_6994/2959506372.py:6: FutureWarning: elementwise comparison failed; returning scalar instead, but in the future will perform elementwise comparison\n",
      "  unique_customer_ids = (pd.unique(customer_data['id']) != \"\")\n"
     ]
    },
    {
     "ename": "AttributeError",
     "evalue": "'bool' object has no attribute 'sum'",
     "output_type": "error",
     "traceback": [
      "\u001b[0;31m---------------------------------------------------------------------------\u001b[0m",
      "\u001b[0;31mAttributeError\u001b[0m                            Traceback (most recent call last)",
      "Cell \u001b[0;32mIn[3], line 8\u001b[0m\n\u001b[1;32m      5\u001b[0m customer_data \u001b[38;5;241m=\u001b[39m pd\u001b[38;5;241m.\u001b[39mread_json(\u001b[38;5;124m'\u001b[39m\u001b[38;5;124mdim_customer.json\u001b[39m\u001b[38;5;124m'\u001b[39m)\n\u001b[1;32m      6\u001b[0m unique_customer_ids \u001b[38;5;241m=\u001b[39m (pd\u001b[38;5;241m.\u001b[39munique(customer_data[\u001b[38;5;124m'\u001b[39m\u001b[38;5;124mid\u001b[39m\u001b[38;5;124m'\u001b[39m]) \u001b[38;5;241m!=\u001b[39m \u001b[38;5;124m\"\u001b[39m\u001b[38;5;124m\"\u001b[39m)\n\u001b[0;32m----> 8\u001b[0m \u001b[38;5;28mprint\u001b[39m(\u001b[43munique_customer_ids\u001b[49m\u001b[38;5;241;43m.\u001b[39;49m\u001b[43msum\u001b[49m())\n",
      "\u001b[0;31mAttributeError\u001b[0m: 'bool' object has no attribute 'sum'"
     ]
    }
   ],
   "source": [
    "import pandas as pd\n",
    "\n",
    "# the following code was run on PyCharm where it printed out \"5191\" instead of throwing an error\n",
    "\n",
    "customer_data = pd.read_json('dim_customer.json')\n",
    "unique_customer_ids = (pd.unique(customer_data['id']) != \"\")\n",
    "\n",
    "print(unique_customer_ids.sum())"
   ]
  },
  {
   "cell_type": "markdown",
   "id": "4c9dede5",
   "metadata": {},
   "source": [
    "2. What are the different categories of products available? How many unique categories are there? //  **ANSWER: The categories are as follows: Clothing, Shoes, Books, Cosmetics, Food & Beverage, Toys, Technology, Souvenir. There are 8 categories in total.**"
   ]
  },
  {
   "cell_type": "code",
   "execution_count": 3,
   "id": "26faaa39",
   "metadata": {},
   "outputs": [
    {
     "name": "stdout",
     "output_type": "stream",
     "text": [
      "['Clothing' 'Shoes' 'Books' 'Cosmetics' 'Food & Beverage' 'Toys'\n",
      " 'Technology' 'Souvenir'] 8\n"
     ]
    }
   ],
   "source": [
    "import pandas as pd\n",
    "\n",
    "customer_data = pd.read_json('dim_customer.json')\n",
    "product_invoice_data = pd.read_csv('fct_invoice.csv')\n",
    "\n",
    "product_category_list = pd.unique(product_invoice_data['category'])\n",
    "num_product_categories = (product_category_list != \"\").sum()\n",
    "\n",
    "print(product_category_list, num_product_categories)"
   ]
  },
  {
   "cell_type": "markdown",
   "id": "5c83bc7e",
   "metadata": {},
   "source": [
    "3. Which payment method is the most popular? How many times was it used? // **ANSWER: Cash is the most popular with 44,447 uses out of 99,457**"
   ]
  },
  {
   "cell_type": "code",
   "execution_count": 4,
   "id": "752e5761",
   "metadata": {},
   "outputs": [
    {
     "name": "stdout",
     "output_type": "stream",
     "text": [
      "Cash           44447\n",
      "Credit Card    34931\n",
      "Debit Card     20079\n",
      "Name: payment_method, dtype: int64\n"
     ]
    }
   ],
   "source": [
    "payment_method_list = product_invoice_data['payment_method'].value_counts()\n",
    "print(payment_method_list)"
   ]
  },
  {
   "cell_type": "markdown",
   "id": "ce19861f",
   "metadata": {},
   "source": [
    "MEDIUM 1. What are the three most popular categories, by total sales? // **ANSWER: Clothing, Cosmetics, and Food & Beverage**"
   ]
  },
  {
   "cell_type": "code",
   "execution_count": 8,
   "id": "0203c045",
   "metadata": {},
   "outputs": [
    {
     "name": "stdout",
     "output_type": "stream",
     "text": [
      "                 total_sales\n",
      "category                    \n",
      "Books                  14982\n",
      "Clothing              103558\n",
      "Cosmetics              45465\n",
      "Food & Beverage        44277\n",
      "Shoes                  30217\n",
      "Souvenir               14871\n",
      "Technology             15021\n",
      "Toys                   30321\n"
     ]
    }
   ],
   "source": [
    "categ_quant_count = product_invoice_data[['quantity', 'category']].value_counts().reset_index(name='count')\n",
    "categ_quant_count['total_sales'] = categ_quant_count['quantity'] * categ_quant_count['count']\n",
    "output_df = categ_quant_count[['category', 'total_sales']]\n",
    "print(output_df.groupby('category').sum())"
   ]
  },
  {
   "cell_type": "markdown",
   "id": "a432cc8c",
   "metadata": {},
   "source": [
    "2. What are the total sales attributed to customers over the age of 45? // **ANSWER: 100439**"
   ]
  },
  {
   "cell_type": "code",
   "execution_count": 17,
   "id": "ce34ff20",
   "metadata": {},
   "outputs": [
    {
     "name": "stdout",
     "output_type": "stream",
     "text": [
      "quantity    100439\n",
      "dtype: int64\n"
     ]
    }
   ],
   "source": [
    "merge_pd = pd.merge(customer_data, product_invoice_data, left_on='id', right_on='customer_id', how='left')\n",
    "\n",
    "filtered_df = merge_pd[merge_pd['age'] >= 45]\n",
    "output = filtered_df[['quantity']].sum()\n",
    "print(output)"
   ]
  },
  {
   "cell_type": "markdown",
   "id": "f761eb00",
   "metadata": {},
   "source": [
    "3. How is the data distributed across different invoice dates? Are there any seasonal trends or patterns? (Use a graph for this.)"
   ]
  },
  {
   "cell_type": "code",
   "execution_count": 36,
   "id": "6043f39f",
   "metadata": {},
   "outputs": [
    {
     "name": "stdout",
     "output_type": "stream",
     "text": [
      "      Month-Year  quantity\n",
      "0        08/2022         5\n",
      "1        12/2021         3\n",
      "2        11/2021         1\n",
      "3        05/2021         5\n",
      "4        10/2021         4\n",
      "...          ...       ...\n",
      "99452    09/2022         5\n",
      "99453    09/2021         2\n",
      "99454    03/2021         2\n",
      "99455    03/2021         4\n",
      "99456    10/2022         3\n",
      "\n",
      "[99457 rows x 2 columns]\n"
     ]
    },
    {
     "data": {
      "text/plain": [
       "[<matplotlib.lines.Line2D at 0x147c92080>]"
      ]
     },
     "execution_count": 36,
     "metadata": {},
     "output_type": "execute_result"
    },
    {
     "data": {
      "image/png": "[encoded data removed]",
      "text/plain": [
       "<Figure size 1000x500 with 1 Axes>"
      ]
     },
     "metadata": {},
     "output_type": "display_data"
    }
   ],
   "source": [
    "import datetime\n",
    "\n",
    "product_invoice_data['Date'] = pd.to_datetime(product_invoice_data.invoice_date, format='%d/%m/%Y')\n",
    "product_invoice_data['Month-Year'] = product_invoice_data['Date'].dt.strftime('%m/%Y')\n",
    "print(product_invoice_data[['Month-Year', 'quantity']])\n",
    "\n",
    "import requests\n",
    "import matplotlib.pyplot as plt\n",
    "\n",
    "filtered_data = product_invoice_data[['Month-Year', 'quantity']]\n",
    "date_points = filtered_data.groupby('Month-Year').sum()\n",
    "\n",
    "\n",
    "\n",
    "fig = plt.figure(figsize=(10, 5), facecolor='lightskyblue', layout='constrained')\n",
    "fig.suptitle('Invoice Dates')\n",
    "ax = fig.add_subplot()\n",
    "ax.set_title('Axes', loc='left', fontstyle='oblique', fontsize='medium')\n",
    "ax.plot(date_points)\n"
   ]
  },
  {
   "cell_type": "markdown",
   "id": "4d94d8a8",
   "metadata": {},
   "source": [
    "HARD 1. Create a pivot table showing the breakdown of sales across these dimensions, in this order: category, decade age range (e.g., 10-19, 20-29, and so forth)."
   ]
  },
  {
   "cell_type": "code",
   "execution_count": 88,
   "id": "5d43bf3d",
   "metadata": {},
   "outputs": [
    {
     "name": "stdout",
     "output_type": "stream",
     "text": [
      "age              (10, 20]  (20, 30]  (30, 40]  (40, 50]  (50, 60]  (60, 70]  \\\n",
      "category                                                                      \n",
      "Books                 351      1443      1522      1471      1438      1354   \n",
      "Clothing             2722      9233     10391      9996      9802      9080   \n",
      "Cosmetics            1178      3999      4865      4382      4214      3990   \n",
      "Food & Beverage      1067      3929      4651      4443      4106      3968   \n",
      "Shoes                 638      2810      3181      3035      2832      2471   \n",
      "Souvenir              458      1267      1487      1488      1352      1215   \n",
      "Technology            438      1313      1607      1518      1222      1386   \n",
      "Toys                  748      2841      3259      2891      2747      2593   \n",
      "\n",
      "age              (70, 80]  (80, 90]  \n",
      "category                             \n",
      "Books                1031       409  \n",
      "Clothing             7154      3401  \n",
      "Cosmetics            2884      1470  \n",
      "Food & Beverage      2894      1328  \n",
      "Shoes                2134       951  \n",
      "Souvenir              907       475  \n",
      "Technology            964       400  \n",
      "Toys                 2179       983  \n"
     ]
    }
   ],
   "source": [
    "merge_pd = pd.merge(customer_data, product_invoice_data, left_on='id', right_on='customer_id', how='left')\n",
    "sorted_df = merge_pd.groupby(['category', pd.cut(merge_pd['age'], [10, 20, 30, 40, 50, 60, 70, 80, 90])]).sum()\n",
    "sorted2_df = sorted_df[['quantity']]\n",
    "\n",
    "pivot_table = pd.pivot_table(sorted2_df, values='quantity', index='category', columns='age', aggfunc=sum, fill_value=0)\n",
    "print(pivot_table)\n",
    "\n",
    "\n",
    "pd.set_option('display.max_rows', None)\n"
   ]
  },
  {
   "cell_type": "code",
   "execution_count": null,
   "id": "a9f5251e",
   "metadata": {},
   "outputs": [],
   "source": []
  }
 ],
 "metadata": {
  "kernelspec": {
   "display_name": "Python 3 (ipykernel)",
   "language": "python",
   "name": "python3"
  },
  "language_info": {
   "codemirror_mode": {
    "name": "ipython",
    "version": 3
   },
   "file_extension": ".py",
   "mimetype": "text/x-python",
   "name": "python",
   "nbconvert_exporter": "python",
   "pygments_lexer": "ipython3",
   "version": "3.10.2"
  }
 },
 "nbformat": 4,
 "nbformat_minor": 5
}
